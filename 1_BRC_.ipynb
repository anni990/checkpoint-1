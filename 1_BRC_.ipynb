{
  "cells": [
    {
      "cell_type": "code",
      "execution_count": null,
      "metadata": {
        "id": "rBpEbPikIqRk"
      },
      "outputs": [],
      "source": [
        "import pandas as pd\n",
        "import matplotlib.pyplot as plt\n",
        "import seaborn as sns"
      ]
    },
    {
      "cell_type": "markdown",
      "metadata": {
        "id": "qU3VAhmrZAz3"
      },
      "source": [
        "## Step 1: The data ingestion and transformation steps.\n",
        "\n",
        "### Loading Dataset"
      ]
    },
    {
      "cell_type": "code",
      "execution_count": null,
      "metadata": {
        "id": "Eos925R9Khie"
      },
      "outputs": [],
      "source": [
        "df = pd.read_csv(\"/content/sensor_data.csv\")"
      ]
    },
    {
      "cell_type": "code",
      "execution_count": null,
      "metadata": {
        "colab": {
          "base_uri": "https://localhost:8080/",
          "height": 143
        },
        "id": "0e1eEK8CLb8V",
        "outputId": "e5d892fb-322e-4f99-90de-0bc6b28132f5"
      },
      "outputs": [],
      "source": [
        "df.sample(3)"
      ]
    },
    {
      "cell_type": "code",
      "execution_count": null,
      "metadata": {
        "colab": {
          "base_uri": "https://localhost:8080/"
        },
        "id": "T7ztFX7vVSEw",
        "outputId": "a30c8220-d741-43e9-d16b-43f7e175d8a9"
      },
      "outputs": [],
      "source": [
        "df.shape"
      ]
    },
    {
      "cell_type": "markdown",
      "metadata": {
        "id": "L1Hcag2_ZFOK"
      },
      "source": [
        "## Creating new Column:\n",
        "\n",
        "- A new column, combined_value, is derived by summing the two original columns."
      ]
    },
    {
      "cell_type": "code",
      "execution_count": null,
      "metadata": {
        "id": "kCPCg8wKUAsu"
      },
      "outputs": [],
      "source": [
        "df['combined_value'] = df['sensor_reading'] + df['control_value']"
      ]
    },
    {
      "cell_type": "code",
      "execution_count": null,
      "metadata": {
        "colab": {
          "base_uri": "https://localhost:8080/",
          "height": 112
        },
        "id": "rqtn_60vU1mO",
        "outputId": "161ec4e3-220d-423d-ea91-5c6dbe3c18b7"
      },
      "outputs": [],
      "source": [
        "df.sample(2)"
      ]
    },
    {
      "cell_type": "code",
      "execution_count": null,
      "metadata": {
        "colab": {
          "base_uri": "https://localhost:8080/"
        },
        "id": "d2qhLx7fLdFE",
        "outputId": "d04b94ad-6cc5-4936-96ea-137028179198"
      },
      "outputs": [],
      "source": [
        "df.duplicated().sum() # check for duplicates."
      ]
    },
    {
      "cell_type": "code",
      "execution_count": null,
      "metadata": {
        "colab": {
          "base_uri": "https://localhost:8080/",
          "height": 397
        },
        "id": "6Lj5HqF7RcKT",
        "outputId": "cbd72509-16c2-408d-a1f9-5d607f2e4eef"
      },
      "outputs": [],
      "source": [
        "df.isnull().sum() # null value check"
      ]
    },
    {
      "cell_type": "code",
      "execution_count": null,
      "metadata": {
        "colab": {
          "base_uri": "https://localhost:8080/",
          "height": 320
        },
        "id": "RQEFL4Q4aFxB",
        "outputId": "8f84c494-22a9-47b3-bd28-b89c03af69ec"
      },
      "outputs": [],
      "source": [
        "df.describe()"
      ]
    },
    {
      "cell_type": "markdown",
      "metadata": {
        "id": "zF4GjveAZ3Ss"
      },
      "source": [
        "## Step 2: The analytical queries calculating the required statistics.\n"
      ]
    },
    {
      "cell_type": "code",
      "execution_count": null,
      "metadata": {
        "id": "55Dp7Ra8TyYo"
      },
      "outputs": [],
      "source": [
        "result = {\n",
        "    'Mean': df.mean(),\n",
        "    'Median': df.median(),\n",
        "    'Mode': df.mode().iloc[0]  # Taking the first mode value in case of multiple modes\n",
        "}\n",
        "\n",
        "summary_df = pd.DataFrame(result)"
      ]
    },
    {
      "cell_type": "code",
      "execution_count": null,
      "metadata": {
        "id": "oWEdnmRAhtGQ"
      },
      "outputs": [],
      "source": [
        "temp = summary_df.iloc[[1,2,-1],:]"
      ]
    },
    {
      "cell_type": "code",
      "execution_count": null,
      "metadata": {
        "colab": {
          "base_uri": "https://localhost:8080/",
          "height": 143
        },
        "id": "nDTuP-MQic6z",
        "outputId": "9425bed7-9a5d-4091-d2af-56f09eb14eb1"
      },
      "outputs": [],
      "source": [
        "temp"
      ]
    },
    {
      "cell_type": "markdown",
      "metadata": {},
      "source": [
        "## Step 3: Visualizations:"
      ]
    },
    {
      "cell_type": "code",
      "execution_count": null,
      "metadata": {
        "id": "t7qgudmSd8VR"
      },
      "outputs": [],
      "source": [
        "cols = ['sensor_reading', 'control_value', 'combined_value']\n",
        "c = ['r','g','b']"
      ]
    },
    {
      "cell_type": "code",
      "execution_count": null,
      "metadata": {
        "colab": {
          "base_uri": "https://localhost:8080/",
          "height": 436
        },
        "id": "Xt_hEXg3cI7I",
        "outputId": "c6c7c084-73fe-4fc3-a676-e09b2bb80b0c"
      },
      "outputs": [],
      "source": [
        "fig, axes = plt.subplots(nrows=1, ncols=3, figsize=(15, 5))\n",
        "\n",
        "for i in cols:\n",
        "  sns.kdeplot(data=df, x=i, ax=axes[cols.index(i)],color=c[cols.index(i)])\n",
        "  axes[cols.index(i)].set_title(f'Distribution of {i}')\n",
        "\n",
        "plt.tight_layout()\n",
        "plt.show()"
      ]
    },
    {
      "cell_type": "code",
      "execution_count": null,
      "metadata": {
        "colab": {
          "base_uri": "https://localhost:8080/",
          "height": 594
        },
        "id": "vz59nvk9eUIx",
        "outputId": "5f9e2d06-be1c-48b7-f1a5-3bea25878d36"
      },
      "outputs": [],
      "source": [
        "# plotting heatmap for correalation between all pairs of variables\n",
        "\n",
        "plt.figure(figsize=(12,5))\n",
        "sns.heatmap(df.corr(), annot=True, cmap='coolwarm')\n",
        "plt.title('Correlation Heatmap')\n",
        "plt.show()"
      ]
    },
    {
      "cell_type": "markdown",
      "metadata": {},
      "source": [
        "- Best correalation between:\n",
        "1. adjusted_sensor and combined_value columns.\n",
        "2. adjusted_sensor and performance_metric\n",
        "3. performance_metric and sensor_reading"
      ]
    },
    {
      "cell_type": "code",
      "execution_count": null,
      "metadata": {
        "colab": {
          "base_uri": "https://localhost:8080/",
          "height": 487
        },
        "id": "5Nw0SmAai6tV",
        "outputId": "e5e8ec93-e03b-4334-9606-6876b2042c9d"
      },
      "outputs": [],
      "source": [
        "plt.figure(figsize=(10,5))\n",
        "sns.histplot(df[\"sensor_reading\"], bins=30, kde=True, color='red', label=\"Sensor Reading\", alpha=0.5)\n",
        "sns.histplot(df[\"control_value\"], bins=30, kde=True, color='blue', label=\"Control Value\", alpha=0.5)\n",
        "sns.histplot(df[\"combined_value\"], bins=30, kde=True, color='green', label=\"Combined Value\", alpha=0.5)\n",
        "plt.xlabel(\"Value\")\n",
        "plt.ylabel(\"Frequency\")\n",
        "plt.title(\"Distribution of Sensor Readings & Control Values\")\n",
        "plt.legend()\n",
        "plt.show()"
      ]
    },
    {
      "cell_type": "code",
      "execution_count": null,
      "metadata": {
        "id": "DJC0kiGfjkpO"
      },
      "outputs": [],
      "source": []
    }
  ],
  "metadata": {
    "colab": {
      "provenance": []
    },
    "kernelspec": {
      "display_name": "Python 3",
      "name": "python3"
    },
    "language_info": {
      "name": "python",
      "version": "3.13.1"
    }
  },
  "nbformat": 4,
  "nbformat_minor": 0
}
