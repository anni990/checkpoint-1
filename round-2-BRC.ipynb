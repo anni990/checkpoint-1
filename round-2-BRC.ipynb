{
 "cells": [
  {
   "cell_type": "code",
   "execution_count": 3,
   "metadata": {},
   "outputs": [
    {
     "name": "stdout",
     "output_type": "stream",
     "text": [
      "3.5.5\n"
     ]
    }
   ],
   "source": [
    "import pyspark\n",
    "print(pyspark.__version__)"
   ]
  },
  {
   "cell_type": "markdown",
   "metadata": {},
   "source": [
    "### 1. Loading dataset using pyspark"
   ]
  },
  {
   "cell_type": "code",
   "execution_count": null,
   "metadata": {},
   "outputs": [],
   "source": [
    "from pyspark.sql import SparkSession\n",
    "\n",
    "# Initialize Spark\n",
    "spark = SparkSession.builder.appName(\"BigDataProcessing\").getOrCreate()\n",
    "\n",
    "# Load CSV from Local Drive\n",
    "dataset_path = \"combined.csv\"  # Change to your local path\n",
    "df = spark.read.csv(dataset_path, header=True, inferSchema=True)\n",
    "\n",
    "# Show first few rows\n",
    "df.show(5)\n"
   ]
  },
  {
   "cell_type": "markdown",
   "metadata": {},
   "source": [
    "### 2. Loading dataset using chunking method of pandas"
   ]
  },
  {
   "cell_type": "code",
   "execution_count": null,
   "metadata": {},
   "outputs": [],
   "source": [
    "import pandas as pd\n",
    "\n",
    "chunk_size = 5000000  # 5 million rows per chunk\n",
    "csv_file = \"combined.csv\"\n",
    "\n",
    "# Process the file in chunks\n",
    "df = pd.read_csv(csv_file, chunksize=chunk_size)"
   ]
  },
  {
   "cell_type": "code",
   "execution_count": null,
   "metadata": {},
   "outputs": [
    {
     "data": {
      "text/plain": [
       "<pandas.io.parsers.readers.TextFileReader at 0x1cc20046350>"
      ]
     },
     "execution_count": 14,
     "metadata": {},
     "output_type": "execute_result"
    }
   ],
   "source": [
    "df"
   ]
  },
  {
   "cell_type": "markdown",
   "metadata": {},
   "source": [
    "### 3. Loading dataset using polar"
   ]
  },
  {
   "cell_type": "code",
   "execution_count": null,
   "metadata": {},
   "outputs": [
    {
     "name": "stdout",
     "output_type": "stream",
     "text": [
      "Defaulting to user installation because normal site-packages is not writeable\n",
      "Collecting polars\n",
      "  Downloading polars-1.23.0-cp39-abi3-win_amd64.whl.metadata (15 kB)\n",
      "Downloading polars-1.23.0-cp39-abi3-win_amd64.whl (34.5 MB)\n",
      "   ---------------------------------------- 0.0/34.5 MB ? eta -:--:--\n",
      "   ---------------------------------------- 0.0/34.5 MB ? eta -:--:--\n",
      "   ---------------------------------------- 0.0/34.5 MB ? eta -:--:--\n",
      "   ---------------------------------------- 0.0/34.5 MB ? eta -:--:--\n",
      "   ---------------------------------------- 0.3/34.5 MB ? eta -:--:--\n",
      "    --------------------------------------- 0.5/34.5 MB 985.7 kB/s eta 0:00:35\n",
      "   - -------------------------------------- 1.3/34.5 MB 2.0 MB/s eta 0:00:17\n",
      "   -- ------------------------------------- 1.8/34.5 MB 2.2 MB/s eta 0:00:15\n",
      "   -- ------------------------------------- 1.8/34.5 MB 2.2 MB/s eta 0:00:15\n",
      "   -- ------------------------------------- 1.8/34.5 MB 2.2 MB/s eta 0:00:15\n",
      "   --- ------------------------------------ 2.6/34.5 MB 1.8 MB/s eta 0:00:19\n",
      "   --- ------------------------------------ 3.4/34.5 MB 2.1 MB/s eta 0:00:16\n",
      "   ----- ---------------------------------- 4.5/34.5 MB 2.4 MB/s eta 0:00:13\n",
      "   ------ --------------------------------- 5.2/34.5 MB 2.6 MB/s eta 0:00:12\n",
      "   ------ --------------------------------- 5.8/34.5 MB 2.6 MB/s eta 0:00:12\n",
      "   ------ --------------------------------- 5.8/34.5 MB 2.6 MB/s eta 0:00:12\n",
      "   ------ --------------------------------- 6.0/34.5 MB 2.4 MB/s eta 0:00:12\n",
      "   ------- -------------------------------- 6.8/34.5 MB 2.4 MB/s eta 0:00:12\n",
      "   -------- ------------------------------- 7.3/34.5 MB 2.4 MB/s eta 0:00:12\n",
      "   --------- ------------------------------ 7.9/34.5 MB 2.4 MB/s eta 0:00:12\n",
      "   --------- ------------------------------ 8.4/34.5 MB 2.4 MB/s eta 0:00:11\n",
      "   ---------- ----------------------------- 8.7/34.5 MB 2.4 MB/s eta 0:00:11\n",
      "   ---------- ----------------------------- 8.9/34.5 MB 2.3 MB/s eta 0:00:12\n",
      "   ---------- ----------------------------- 9.4/34.5 MB 2.3 MB/s eta 0:00:12\n",
      "   ------------ --------------------------- 10.7/34.5 MB 2.4 MB/s eta 0:00:10\n",
      "   ------------- -------------------------- 11.8/34.5 MB 2.6 MB/s eta 0:00:09\n",
      "   -------------- ------------------------- 12.8/34.5 MB 2.7 MB/s eta 0:00:09\n",
      "   --------------- ------------------------ 13.1/34.5 MB 2.7 MB/s eta 0:00:09\n",
      "   --------------- ------------------------ 13.1/34.5 MB 2.7 MB/s eta 0:00:09\n",
      "   --------------- ------------------------ 13.4/34.5 MB 2.5 MB/s eta 0:00:09\n",
      "   ---------------- ----------------------- 14.2/34.5 MB 2.5 MB/s eta 0:00:09\n",
      "   ----------------- ---------------------- 15.2/34.5 MB 2.6 MB/s eta 0:00:08\n",
      "   ------------------ --------------------- 16.0/34.5 MB 2.6 MB/s eta 0:00:07\n",
      "   ------------------- -------------------- 16.8/34.5 MB 2.7 MB/s eta 0:00:07\n",
      "   ------------------- -------------------- 17.0/34.5 MB 2.7 MB/s eta 0:00:07\n",
      "   ------------------- -------------------- 17.0/34.5 MB 2.7 MB/s eta 0:00:07\n",
      "   -------------------- ------------------- 17.3/34.5 MB 2.5 MB/s eta 0:00:07\n",
      "   -------------------- ------------------- 17.8/34.5 MB 2.5 MB/s eta 0:00:07\n",
      "   --------------------- ------------------ 18.6/34.5 MB 2.6 MB/s eta 0:00:07\n",
      "   ---------------------- ----------------- 19.4/34.5 MB 2.6 MB/s eta 0:00:06\n",
      "   ----------------------- ---------------- 19.9/34.5 MB 2.6 MB/s eta 0:00:06\n",
      "   ----------------------- ---------------- 20.4/34.5 MB 2.6 MB/s eta 0:00:06\n",
      "   ----------------------- ---------------- 20.4/34.5 MB 2.6 MB/s eta 0:00:06\n",
      "   ----------------------- ---------------- 20.4/34.5 MB 2.6 MB/s eta 0:00:06\n",
      "   ----------------------- ---------------- 20.4/34.5 MB 2.6 MB/s eta 0:00:06\n",
      "   ----------------------- ---------------- 20.4/34.5 MB 2.6 MB/s eta 0:00:06\n",
      "   ------------------------ --------------- 21.0/34.5 MB 2.3 MB/s eta 0:00:06\n",
      "   ------------------------ --------------- 21.5/34.5 MB 2.3 MB/s eta 0:00:06\n",
      "   ------------------------- -------------- 21.8/34.5 MB 2.3 MB/s eta 0:00:06\n",
      "   ------------------------- -------------- 22.3/34.5 MB 2.3 MB/s eta 0:00:06\n",
      "   -------------------------- ------------- 22.5/34.5 MB 2.3 MB/s eta 0:00:06\n",
      "   -------------------------- ------------- 22.8/34.5 MB 2.3 MB/s eta 0:00:06\n",
      "   -------------------------- ------------- 23.1/34.5 MB 2.2 MB/s eta 0:00:06\n",
      "   --------------------------- ------------ 23.6/34.5 MB 2.3 MB/s eta 0:00:05\n",
      "   ---------------------------- ----------- 24.4/34.5 MB 2.3 MB/s eta 0:00:05\n",
      "   ---------------------------- ----------- 24.9/34.5 MB 2.3 MB/s eta 0:00:05\n",
      "   ----------------------------- ---------- 25.4/34.5 MB 2.3 MB/s eta 0:00:04\n",
      "   ----------------------------- ---------- 25.4/34.5 MB 2.3 MB/s eta 0:00:04\n",
      "   ----------------------------- ---------- 25.4/34.5 MB 2.3 MB/s eta 0:00:04\n",
      "   ----------------------------- ---------- 25.4/34.5 MB 2.3 MB/s eta 0:00:04\n",
      "   ----------------------------- ---------- 25.7/34.5 MB 2.2 MB/s eta 0:00:05\n",
      "   ------------------------------ --------- 26.2/34.5 MB 2.2 MB/s eta 0:00:04\n",
      "   ------------------------------ --------- 26.5/34.5 MB 2.2 MB/s eta 0:00:04\n",
      "   ------------------------------- -------- 27.3/34.5 MB 2.2 MB/s eta 0:00:04\n",
      "   ------------------------------- -------- 27.5/34.5 MB 2.2 MB/s eta 0:00:04\n",
      "   ------------------------------- -------- 27.5/34.5 MB 2.2 MB/s eta 0:00:04\n",
      "   -------------------------------- ------- 27.8/34.5 MB 2.1 MB/s eta 0:00:04\n",
      "   -------------------------------- ------- 27.8/34.5 MB 2.1 MB/s eta 0:00:04\n",
      "   -------------------------------- ------- 28.0/34.5 MB 2.1 MB/s eta 0:00:04\n",
      "   --------------------------------- ------ 28.8/34.5 MB 2.1 MB/s eta 0:00:03\n",
      "   ---------------------------------- ----- 29.4/34.5 MB 2.1 MB/s eta 0:00:03\n",
      "   ---------------------------------- ----- 29.4/34.5 MB 2.1 MB/s eta 0:00:03\n",
      "   ---------------------------------- ----- 29.6/34.5 MB 2.1 MB/s eta 0:00:03\n",
      "   ---------------------------------- ----- 30.1/34.5 MB 2.0 MB/s eta 0:00:03\n",
      "   ----------------------------------- ---- 30.7/34.5 MB 2.1 MB/s eta 0:00:02\n",
      "   ------------------------------------ --- 31.5/34.5 MB 2.1 MB/s eta 0:00:02\n",
      "   ------------------------------------- -- 32.0/34.5 MB 2.1 MB/s eta 0:00:02\n",
      "   ------------------------------------- -- 32.2/34.5 MB 2.1 MB/s eta 0:00:02\n",
      "   ------------------------------------- -- 32.2/34.5 MB 2.1 MB/s eta 0:00:02\n",
      "   ------------------------------------- -- 32.8/34.5 MB 2.0 MB/s eta 0:00:01\n",
      "   -------------------------------------- - 33.3/34.5 MB 2.1 MB/s eta 0:00:01\n",
      "   ---------------------------------------  33.8/34.5 MB 2.1 MB/s eta 0:00:01\n",
      "   ---------------------------------------  34.1/34.5 MB 2.1 MB/s eta 0:00:01\n",
      "   ---------------------------------------  34.3/34.5 MB 2.1 MB/s eta 0:00:01\n",
      "   ---------------------------------------  34.3/34.5 MB 2.1 MB/s eta 0:00:01\n",
      "   ---------------------------------------- 34.5/34.5 MB 2.0 MB/s eta 0:00:00\n",
      "Installing collected packages: polars\n",
      "Successfully installed polars-1.23.0\n"
     ]
    },
    {
     "name": "stderr",
     "output_type": "stream",
     "text": [
      "\n",
      "[notice] A new release of pip is available: 24.3.1 -> 25.0.1\n",
      "[notice] To update, run: python.exe -m pip install --upgrade pip\n"
     ]
    }
   ],
   "source": [
    "! pip install polars"
   ]
  },
  {
   "cell_type": "code",
   "execution_count": null,
   "metadata": {},
   "outputs": [],
   "source": [
    "import polars as pl\n",
    "import time\n",
    "\n",
    "start_time = time.time()\n",
    "\n",
    "df = pl.read_csv(\"C:/Users/anike/Downloads/1-BRC.csv\")\n",
    "\n",
    "end_time = time.time()\n",
    "print(f\"Polars Load Time: {end_time - start_time:.2f} seconds\")"
   ]
  },
  {
   "cell_type": "markdown",
   "metadata": {},
   "source": [
    "### 4. Loading dataset using dash"
   ]
  },
  {
   "cell_type": "code",
   "execution_count": 8,
   "metadata": {},
   "outputs": [],
   "source": [
    "import dask.dataframe as dd\n",
    "import time\n",
    "import numpy as np"
   ]
  },
  {
   "cell_type": "code",
   "execution_count": 10,
   "metadata": {},
   "outputs": [
    {
     "name": "stdout",
     "output_type": "stream",
     "text": [
      "0.274 Seconds\n"
     ]
    }
   ],
   "source": [
    "st = time.time()\n",
    "\n",
    "df = dd.read_csv(r\"C:/Users/anike/Downloads/1-BRC.csv\")\n",
    "\n",
    "et = time.time()\n",
    "\n",
    "print(np.round((et-st),3), \"Seconds\")"
   ]
  },
  {
   "cell_type": "code",
   "execution_count": 3,
   "metadata": {},
   "outputs": [
    {
     "data": {
      "text/html": [
       "<div>\n",
       "<style scoped>\n",
       "    .dataframe tbody tr th:only-of-type {\n",
       "        vertical-align: middle;\n",
       "    }\n",
       "\n",
       "    .dataframe tbody tr th {\n",
       "        vertical-align: top;\n",
       "    }\n",
       "\n",
       "    .dataframe thead th {\n",
       "        text-align: right;\n",
       "    }\n",
       "</style>\n",
       "<table border=\"1\" class=\"dataframe\">\n",
       "  <thead>\n",
       "    <tr style=\"text-align: right;\">\n",
       "      <th></th>\n",
       "      <th>timestamp</th>\n",
       "      <th>soil_moisture</th>\n",
       "      <th>soil_water_content</th>\n",
       "      <th>carbon_percent</th>\n",
       "      <th>nitrogen_percent</th>\n",
       "      <th>atmospheric_humidity</th>\n",
       "      <th>temperature</th>\n",
       "      <th>pH</th>\n",
       "    </tr>\n",
       "  </thead>\n",
       "  <tbody>\n",
       "    <tr>\n",
       "      <th>0</th>\n",
       "      <td>0</td>\n",
       "      <td>48.87</td>\n",
       "      <td>65.23</td>\n",
       "      <td>2.28</td>\n",
       "      <td>3.05</td>\n",
       "      <td>4.68</td>\n",
       "      <td>-4.89</td>\n",
       "      <td>4.45</td>\n",
       "    </tr>\n",
       "    <tr>\n",
       "      <th>1</th>\n",
       "      <td>1</td>\n",
       "      <td>19.15</td>\n",
       "      <td>61.87</td>\n",
       "      <td>2.97</td>\n",
       "      <td>1.68</td>\n",
       "      <td>40.73</td>\n",
       "      <td>-6.75</td>\n",
       "      <td>6.03</td>\n",
       "    </tr>\n",
       "    <tr>\n",
       "      <th>2</th>\n",
       "      <td>2</td>\n",
       "      <td>1.50</td>\n",
       "      <td>59.92</td>\n",
       "      <td>8.34</td>\n",
       "      <td>3.59</td>\n",
       "      <td>53.55</td>\n",
       "      <td>9.82</td>\n",
       "      <td>8.01</td>\n",
       "    </tr>\n",
       "    <tr>\n",
       "      <th>3</th>\n",
       "      <td>3</td>\n",
       "      <td>59.39</td>\n",
       "      <td>82.40</td>\n",
       "      <td>2.05</td>\n",
       "      <td>2.71</td>\n",
       "      <td>67.54</td>\n",
       "      <td>39.78</td>\n",
       "      <td>5.03</td>\n",
       "    </tr>\n",
       "    <tr>\n",
       "      <th>4</th>\n",
       "      <td>4</td>\n",
       "      <td>36.43</td>\n",
       "      <td>97.22</td>\n",
       "      <td>6.98</td>\n",
       "      <td>1.82</td>\n",
       "      <td>52.52</td>\n",
       "      <td>-4.01</td>\n",
       "      <td>5.83</td>\n",
       "    </tr>\n",
       "  </tbody>\n",
       "</table>\n",
       "</div>"
      ],
      "text/plain": [
       "   timestamp  soil_moisture  soil_water_content  carbon_percent  \\\n",
       "0          0          48.87               65.23            2.28   \n",
       "1          1          19.15               61.87            2.97   \n",
       "2          2           1.50               59.92            8.34   \n",
       "3          3          59.39               82.40            2.05   \n",
       "4          4          36.43               97.22            6.98   \n",
       "\n",
       "   nitrogen_percent  atmospheric_humidity  temperature    pH  \n",
       "0              3.05                  4.68        -4.89  4.45  \n",
       "1              1.68                 40.73        -6.75  6.03  \n",
       "2              3.59                 53.55         9.82  8.01  \n",
       "3              2.71                 67.54        39.78  5.03  \n",
       "4              1.82                 52.52        -4.01  5.83  "
      ]
     },
     "execution_count": 3,
     "metadata": {},
     "output_type": "execute_result"
    }
   ],
   "source": [
    "df.head()"
   ]
  },
  {
   "cell_type": "markdown",
   "metadata": {},
   "source": [
    "### Understanding and preprocessing."
   ]
  },
  {
   "cell_type": "code",
   "execution_count": 12,
   "metadata": {},
   "outputs": [],
   "source": [
    "from itertools import (takewhile,repeat)\n",
    "\n",
    "def rawincount(filename):\n",
    "    f = open(filename, 'rb')\n",
    "    bufgen = takewhile(lambda x: x, (f.raw.read(1024*1024) for _ in repeat(None)))\n",
    "    return sum( buf.count(b'\\n') for buf in bufgen )"
   ]
  },
  {
   "cell_type": "code",
   "execution_count": null,
   "metadata": {},
   "outputs": [],
   "source": [
    "filename = \"C:/Users/anike/Downloads/1-BRC.csv\"\n",
    "df = dd.read_csv(filename)\n",
    "\n",
    "st = time.time()\n",
    "df_shape = (rawincount(filename) - 1, len(df.columns))\n",
    "et = time.time()\n",
    "\n",
    "print(f\"Shape: {df_shape}\")\n",
    "print(np.round((et-st),3), \"Seconds\")"
   ]
  },
  {
   "cell_type": "code",
   "execution_count": 14,
   "metadata": {},
   "outputs": [
    {
     "name": "stdout",
     "output_type": "stream",
     "text": [
      "0.043 Seconds\n"
     ]
    }
   ],
   "source": [
    "st = time.time()\n",
    "\n",
    "df = df[(df[\"carbon_percent\"] >= 0) & (df[\"nitrogen_percent\"] >= 0)]\n",
    "\n",
    "et = time.time()\n",
    "print(np.round((et-st),3), \"Seconds\")"
   ]
  },
  {
   "cell_type": "code",
   "execution_count": 33,
   "metadata": {},
   "outputs": [
    {
     "data": {
      "text/plain": [
       "dask.dataframe.dask_expr._collection.DataFrame"
      ]
     },
     "execution_count": 33,
     "metadata": {},
     "output_type": "execute_result"
    }
   ],
   "source": [
    "type(df)"
   ]
  },
  {
   "cell_type": "code",
   "execution_count": 34,
   "metadata": {},
   "outputs": [
    {
     "name": "stdout",
     "output_type": "stream",
     "text": [
      "<class 'dask.dataframe.dask_expr.DataFrame'>\n",
      "Columns: 8 entries, timestamp to pH\n",
      "dtypes: float64(7), int64(1)"
     ]
    }
   ],
   "source": [
    "df.info()"
   ]
  },
  {
   "cell_type": "code",
   "execution_count": 36,
   "metadata": {},
   "outputs": [
    {
     "data": {
      "text/plain": [
       "Index(['timestamp', 'soil_moisture', 'soil_water_content', 'carbon_percent',\n",
       "       'nitrogen_percent', 'atmospheric_humidity', 'temperature', 'pH'],\n",
       "      dtype='object')"
      ]
     },
     "execution_count": 36,
     "metadata": {},
     "output_type": "execute_result"
    }
   ],
   "source": [
    "df.columns"
   ]
  },
  {
   "cell_type": "code",
   "execution_count": 15,
   "metadata": {},
   "outputs": [],
   "source": [
    "import concurrent.futures"
   ]
  },
  {
   "cell_type": "code",
   "execution_count": 16,
   "metadata": {},
   "outputs": [],
   "source": [
    "file_path = \"C:/Users/anike/Downloads/1-BRC.csv\"\n",
    "df = dd.read_csv(file_path, usecols=[\"carbon_percent\", \"nitrogen_percent\"])"
   ]
  },
  {
   "cell_type": "code",
   "execution_count": 17,
   "metadata": {},
   "outputs": [],
   "source": [
    "def compute_statistics(column):\n",
    "    start_time = time.time()\n",
    "\n",
    "    # Convert Dask to Polars for faster computation\n",
    "    pl_df = pl.from_pandas(df[column].compute())\n",
    "\n",
    "    # Compute key statistics\n",
    "    stats = {\n",
    "        \"Mean\": pl_df.mean()[0],\n",
    "        \"Median\": pl_df.median()[0],\n",
    "        \"Standard Deviation\": pl_df.std()[0],\n",
    "        \"Q1\": pl_df.quantile(0.25)[0],\n",
    "        \"Q3\": pl_df.quantile(0.75)[0]\n",
    "    }\n",
    "\n",
    "    end_time = time.time()\n",
    "    stats[\"Computation Time\"] = round(end_time - start_time, 2)\n",
    "\n",
    "    return stats\n",
    "\n",
    "# Parallel execution using ThreadPoolExecutor\n",
    "def parallel_compute():\n",
    "    with concurrent.futures.ThreadPoolExecutor() as executor:\n",
    "        future_carbon = executor.submit(compute_statistics, \"carbon_percent\")\n",
    "        future_nitrogen = executor.submit(compute_statistics, \"nitrogen_percent\")\n",
    "\n",
    "        carbon_stats = future_carbon.result()\n",
    "        nitrogen_stats = future_nitrogen.result()\n",
    "\n",
    "    return carbon_stats, nitrogen_stats\n"
   ]
  },
  {
   "cell_type": "code",
   "execution_count": null,
   "metadata": {},
   "outputs": [
    {
     "name": "stdout",
     "output_type": "stream",
     "text": [
      "✅ Data Loaded in 0.29 seconds\n"
     ]
    }
   ],
   "source": [
    "from dask.diagnostics import ProgressBar\n",
    "\n",
    "ProgressBar().register()\n",
    "\n",
    "start_time = time.time()\n",
    "\n",
    "df = dd.read_csv(file_path, usecols=[\"carbon_percent\", \"nitrogen_percent\"])\n",
    "\n",
    "load_time = time.time() - start_time\n",
    "print(f\"Data Loaded in {load_time:.2f} seconds\")\n"
   ]
  },
  {
   "cell_type": "code",
   "execution_count": null,
   "metadata": {},
   "outputs": [],
   "source": [
    "# Start Timer for Computation\n",
    "start_time = time.time()\n",
    "\n",
    "# Use Dask's parallel computation to calculate statistics\n",
    "stats = df.describe().compute(scheduler=\"threads\")  # Uses multithreading\n",
    "\n",
    "# End Timer\n",
    "compute_time = time.time() - start_time\n",
    "\n",
    "# Display Statistics\n",
    "print(stats)\n",
    "\n",
    "print(f\"✅ Statistics Computed in {compute_time:.2f} seconds\")\n"
   ]
  },
  {
   "cell_type": "code",
   "execution_count": null,
   "metadata": {},
   "outputs": [],
   "source": []
  }
 ],
 "metadata": {
  "kernelspec": {
   "display_name": "Python 3",
   "language": "python",
   "name": "python3"
  },
  "language_info": {
   "codemirror_mode": {
    "name": "ipython",
    "version": 3
   },
   "file_extension": ".py",
   "mimetype": "text/x-python",
   "name": "python",
   "nbconvert_exporter": "python",
   "pygments_lexer": "ipython3",
   "version": "3.13.1"
  }
 },
 "nbformat": 4,
 "nbformat_minor": 2
}
